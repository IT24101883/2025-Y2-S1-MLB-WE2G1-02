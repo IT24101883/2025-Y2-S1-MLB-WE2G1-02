{
  "nbformat": 4,
  "nbformat_minor": 0,
  "metadata": {
    "colab": {
      "provenance": []
    },
    "kernelspec": {
      "name": "python3",
      "display_name": "Python 3"
    },
    "language_info": {
      "name": "python"
    }
  },
  "cells": [
    {
      "cell_type": "code",
      "execution_count": 12,
      "metadata": {
        "colab": {
          "base_uri": "https://localhost:8080/"
        },
        "id": "rHSG2xmgNvS_",
        "outputId": "bcbf5a86-c19a-4b5c-eca8-844eeddbda96"
      },
      "outputs": [
        {
          "output_type": "stream",
          "name": "stdout",
          "text": [
            "Drive already mounted at /content/drive; to attempt to forcibly remount, call drive.mount(\"/content/drive\", force_remount=True).\n"
          ]
        }
      ],
      "source": [
        "from google.colab import drive\n",
        "drive.mount('/content/drive')\n",
        "\n"
      ]
    },
    {
      "cell_type": "code",
      "metadata": {
        "id": "0c947bc9"
      },
      "source": [
        "dataset_path = '/content/drive/MyDrive/Vehicles'"
      ],
      "execution_count": 13,
      "outputs": []
    },
    {
      "cell_type": "code",
      "source": [
        "import os\n",
        "import matplotlib.pyplot as plt\n"
      ],
      "metadata": {
        "id": "QS3AxxVlWfHZ"
      },
      "execution_count": 14,
      "outputs": []
    },
    {
      "cell_type": "code",
      "source": [
        "dataset_path = '/content/drive/MyDrive/Vehicles'  # Replace with your folder path\n"
      ],
      "metadata": {
        "id": "zbEKUHaNWkAb"
      },
      "execution_count": 15,
      "outputs": []
    },
    {
      "cell_type": "code",
      "source": [
        "class_counts = {}\n",
        "\n",
        "# Loop through each class folder\n",
        "for class_name in os.listdir(dataset_path):\n",
        "    class_folder = os.path.join(dataset_path, class_name)\n",
        "    if os.path.isdir(class_folder):\n",
        "        class_counts[class_name] = len(os.listdir(class_folder))\n",
        "\n",
        "print(class_counts)\n"
      ],
      "metadata": {
        "colab": {
          "base_uri": "https://localhost:8080/"
        },
        "id": "hHig0JLJWloE",
        "outputId": "009e9894-0b1c-4c6a-b2a9-df308d9ef5a0"
      },
      "execution_count": 16,
      "outputs": [
        {
          "output_type": "stream",
          "name": "stdout",
          "text": [
            "{}\n"
          ]
        }
      ]
    },
    {
      "cell_type": "code",
      "source": [
        "# 1. Basic imports\n",
        "!pip -q install pillow pandas matplotlib tqdm\n",
        "\n",
        "import os, sys, math, json, collections\n",
        "from pathlib import Path\n",
        "from PIL import Image, UnidentifiedImageError\n",
        "import pandas as pd\n",
        "import matplotlib.pyplot as plt\n",
        "from tqdm import tqdm"
      ],
      "metadata": {
        "id": "NNAZ8lpaaKDT"
      },
      "execution_count": 17,
      "outputs": []
    },
    {
      "cell_type": "code",
      "source": [
        "import collections\n",
        "from pathlib import Path\n",
        "from PIL import Image, UnidentifiedImageError\n",
        "\n",
        "VALID_EXTS = {\".jpg\", \".jpeg\", \".png\", \".bmp\", \".gif\", \".webp\", \".tif\", \".tiff\"}\n",
        "\n",
        "def is_image(p: Path):\n",
        "    return p.suffix.lower() in VALID_EXTS\n",
        "\n",
        "def find_splits(root: Path):\n",
        "    candidates = {\"train\", \"val\", \"valid\", \"validation\", \"test\"}\n",
        "    entries = {d.name.lower(): d for d in root.iterdir() if d.is_dir()}\n",
        "    splits = []\n",
        "    for name in candidates:\n",
        "        if name in entries:\n",
        "            splits.append((name, entries[name]))\n",
        "    if splits:\n",
        "        return splits\n",
        "    return [(\"all\", root)]\n",
        "\n",
        "def count_by_class_folder(split_dir: Path):\n",
        "    counts = collections.Counter()\n",
        "    broken = collections.Counter()\n",
        "\n",
        "    class_dirs = [d for d in split_dir.iterdir() if d.is_dir()]\n",
        "\n",
        "    # Case 1: folder-per-class exists\n",
        "    if class_dirs:\n",
        "        for class_dir in class_dirs:\n",
        "            cls = class_dir.name\n",
        "            for p in class_dir.rglob(\"*\"):\n",
        "                if not p.is_file() or not is_image(p):\n",
        "                    continue\n",
        "                try:\n",
        "                    with Image.open(p) as im:\n",
        "                        im.verify()\n",
        "                    counts[cls] += 1\n",
        "                except (UnidentifiedImageError, OSError):\n",
        "                    broken[cls] += 1\n",
        "    else:\n",
        "        # Case 2: images directly under split_dir (no class subfolders)\n",
        "        cls = split_dir.name\n",
        "        for p in split_dir.rglob(\"*\"):\n",
        "            if not p.is_file() or not is_image(p):\n",
        "                continue\n",
        "            try:\n",
        "                with Image.open(p) as im:\n",
        "                    im.verify()\n",
        "                counts[cls] += 1\n",
        "            except (UnidentifiedImageError, OSError):\n",
        "                broken[cls] += 1\n",
        "\n",
        "    return counts, broken\n",
        "\n",
        "# Run\n",
        "root = Path(\"/content/drive/MyDrive/Vehicles\")\n",
        "split_dirs = find_splits(root)\n",
        "\n",
        "all_results = {}\n",
        "for split_name, split_path in split_dirs:\n",
        "    counts, broken = count_by_class_folder(split_path)\n",
        "    all_results[split_name] = {\"counts\": counts, \"broken\": broken}\n",
        "\n",
        "# Preview\n",
        "for split_name, res in all_results.items():\n",
        "    print(f\"\\n=== Split: {split_name} ===\")\n",
        "    print(\"Total images:\", sum(res[\"counts\"].values()))\n",
        "    if sum(res[\"broken\"].values()) > 0:\n",
        "        print(\"Broken/unreadable images:\", sum(res[\"broken\"].values()))\n",
        "    print(\"Per class counts:\", dict(res[\"counts\"]))\n"
      ],
      "metadata": {
        "colab": {
          "base_uri": "https://localhost:8080/"
        },
        "id": "AJVDdAFSaNp5",
        "outputId": "dd4a20c3-d42f-428a-d933-3a413e59a043"
      },
      "execution_count": 18,
      "outputs": [
        {
          "output_type": "stream",
          "name": "stdout",
          "text": [
            "\n",
            "=== Split: all ===\n",
            "Total images: 1602\n",
            "Per class counts: {'Vehicles': 1602}\n"
          ]
        }
      ]
    },
    {
      "cell_type": "code",
      "source": [
        "def plot_counts(counter: collections.Counter, title=\"Class distribution\", save_path=None):\n",
        "    if len(counter) == 0:\n",
        "        print(\"No images found.\")\n",
        "        return\n",
        "    series = pd.Series(counter).sort_values(ascending=False)\n",
        "    total = series.sum()\n",
        "    imbalance = series.iloc[0] / max(1, series.iloc[-1])\n",
        "\n",
        "    plt.figure(figsize=(max(8, len(series)*0.4), 6))\n",
        "    ax = series.plot(kind=\"bar\")\n",
        "    ax.set_title(f\"{title}\\nClasses: {len(series)} | Images: {total} | Imbalance (max/min): {imbalance:.2f}\")\n",
        "    ax.set_xlabel(\"Class\")\n",
        "    ax.set_ylabel(\"Image count\")\n",
        "    plt.xticks(rotation=45, ha=\"right\")\n",
        "    # Annotate bars with percentages\n",
        "    for p, val in zip(ax.patches, series.values):\n",
        "        ax.annotate(f\"{val} ({val/total:.1%})\", (p.get_x()+p.get_width()/2, p.get_height()),\n",
        "                    ha=\"center\", va=\"bottom\", fontsize=8, rotation=90)\n",
        "    if save_path:\n",
        "        plt.tight_layout()\n",
        "        plt.savefig(save_path, dpi=150, bbox_inches=\"tight\")\n",
        "        print(\"Saved plot to:\", save_path)\n",
        "    plt.show()\n",
        "\n",
        "for split_name, res in all_results.items():\n",
        "    plot_counts(res[\"counts\"], title=f\"Class distribution — {split_name}\",\n",
        "                save_path=f\"/content/{split_name}_class_distribution.png\")"
      ],
      "metadata": {
        "colab": {
          "base_uri": "https://localhost:8080/",
          "height": 625
        },
        "id": "LBsnJEGZaska",
        "outputId": "c59d5abc-b554-40d9-9eb4-7b25e8a4d009"
      },
      "execution_count": 19,
      "outputs": [
        {
          "output_type": "stream",
          "name": "stdout",
          "text": [
            "Saved plot to: /content/all_class_distribution.png\n"
          ]
        },
        {
          "output_type": "display_data",
          "data": {
            "text/plain": [
              "<Figure size 800x600 with 1 Axes>"
            ],
            "image/png": "[encoded data removed]"
          },
          "metadata": {}
        }
      ]
    },
    {
      "cell_type": "code",
      "source": [
        "import collections\n",
        "import pandas as pd\n",
        "\n",
        "def summary_from_counter(counter: collections.Counter):\n",
        "    s = pd.Series(counter).sort_values(ascending=False).rename(\"count\")\n",
        "    total = s.sum()\n",
        "    out = pd.DataFrame({\n",
        "        \"class\": s.index,\n",
        "        \"count\": s.values,\n",
        "        \"percent\": (s.values/total*100).round(2)\n",
        "    })\n",
        "    out[\"cumulative_%\"] = out[\"percent\"].cumsum().round(2)\n",
        "    return out\n",
        "\n",
        "# --- Combine all splits ---\n",
        "combined_counts = collections.Counter()\n",
        "for split_name, res in all_results.items():\n",
        "    combined_counts.update(res[\"counts\"])\n",
        "\n",
        "# --- Create summary ---\n",
        "summary_all = summary_from_counter(combined_counts)\n",
        "\n",
        "# Preview\n",
        "print(\"\\n=== Overall dataset summary ===\")\n",
        "display(summary_all.head(20))  # show top 20 classes\n",
        "\n",
        "# Save to Excel\n",
        "excel_path = \"/content/overall_class_distribution.xlsx\"\n",
        "summary_all.to_excel(excel_path, index=False, engine=\"openpyxl\")\n",
        "\n",
        "print(f\"\\nSaved full summary Excel file: {excel_path}\")\n"
      ],
      "metadata": {
        "colab": {
          "base_uri": "https://localhost:8080/",
          "height": 150
        },
        "id": "zzQuPqr5axPK",
        "outputId": "5f734a2d-9ea0-483e-e179-bbf05ca71147"
      },
      "execution_count": 23,
      "outputs": [
        {
          "output_type": "stream",
          "name": "stdout",
          "text": [
            "\n",
            "=== Overall dataset summary ===\n"
          ]
        },
        {
          "output_type": "display_data",
          "data": {
            "text/plain": [
              "      class  count  percent  cumulative_%\n",
              "0  Vehicles   1602    100.0         100.0"
            ],
            "text/html": [
              "\n",
              "  <div id=\"df-7428cd97-914a-4148-8a08-5d16f89abd24\" class=\"colab-df-container\">\n",
              "    <div>\n",
              "<style scoped>\n",
              "    .dataframe tbody tr th:only-of-type {\n",
              "        vertical-align: middle;\n",
              "    }\n",
              "\n",
              "    .dataframe tbody tr th {\n",
              "        vertical-align: top;\n",
              "    }\n",
              "\n",
              "    .dataframe thead th {\n",
              "        text-align: right;\n",
              "    }\n",
              "</style>\n",
              "<table border=\"1\" class=\"dataframe\">\n",
              "  <thead>\n",
              "    <tr style=\"text-align: right;\">\n",
              "      <th></th>\n",
              "      <th>class</th>\n",
              "      <th>count</th>\n",
              "      <th>percent</th>\n",
              "      <th>cumulative_%</th>\n",
              "    </tr>\n",
              "  </thead>\n",
              "  <tbody>\n",
              "    <tr>\n",
              "      <th>0</th>\n",
              "      <td>Vehicles</td>\n",
              "      <td>1602</td>\n",
              "      <td>100.0</td>\n",
              "      <td>100.0</td>\n",
              "    </tr>\n",
              "  </tbody>\n",
              "</table>\n",
              "</div>\n",
              "    <div class=\"colab-df-buttons\">\n",
              "\n",
              "  <div class=\"colab-df-container\">\n",
              "    <button class=\"colab-df-convert\" onclick=\"convertToInteractive('df-7428cd97-914a-4148-8a08-5d16f89abd24')\"\n",
              "            title=\"Convert this dataframe to an interactive table.\"\n",
              "            style=\"display:none;\">\n",
              "\n",
              "  <svg xmlns=\"http://www.w3.org/2000/svg\" height=\"24px\" viewBox=\"0 -960 960 960\">\n",
              "    <path d=\"M120-120v-720h720v720H120Zm60-500h600v-160H180v160Zm220 220h160v-160H400v160Zm0 220h160v-160H400v160ZM180-400h160v-160H180v160Zm440 0h160v-160H620v160ZM180-180h160v-160H180v160Zm440 0h160v-160H620v160Z\"/>\n",
              "  </svg>\n",
              "    </button>\n",
              "\n",
              "  <style>\n",
              "    .colab-df-container {\n",
              "      display:flex;\n",
              "      gap: 12px;\n",
              "    }\n",
              "\n",
              "    .colab-df-convert {\n",
              "      background-color: #E8F0FE;\n",
              "      border: none;\n",
              "      border-radius: 50%;\n",
              "      cursor: pointer;\n",
              "      display: none;\n",
              "      fill: #1967D2;\n",
              "      height: 32px;\n",
              "      padding: 0 0 0 0;\n",
              "      width: 32px;\n",
              "    }\n",
              "\n",
              "    .colab-df-convert:hover {\n",
              "      background-color: #E2EBFA;\n",
              "      box-shadow: 0px 1px 2px rgba(60, 64, 67, 0.3), 0px 1px 3px 1px rgba(60, 64, 67, 0.15);\n",
              "      fill: #174EA6;\n",
              "    }\n",
              "\n",
              "    .colab-df-buttons div {\n",
              "      margin-bottom: 4px;\n",
              "    }\n",
              "\n",
              "    [theme=dark] .colab-df-convert {\n",
              "      background-color: #3B4455;\n",
              "      fill: #D2E3FC;\n",
              "    }\n",
              "\n",
              "    [theme=dark] .colab-df-convert:hover {\n",
              "      background-color: #434B5C;\n",
              "      box-shadow: 0px 1px 3px 1px rgba(0, 0, 0, 0.15);\n",
              "      filter: drop-shadow(0px 1px 2px rgba(0, 0, 0, 0.3));\n",
              "      fill: #FFFFFF;\n",
              "    }\n",
              "  </style>\n",
              "\n",
              "    <script>\n",
              "      const buttonEl =\n",
              "        document.querySelector('#df-7428cd97-914a-4148-8a08-5d16f89abd24 button.colab-df-convert');\n",
              "      buttonEl.style.display =\n",
              "        google.colab.kernel.accessAllowed ? 'block' : 'none';\n",
              "\n",
              "      async function convertToInteractive(key) {\n",
              "        const element = document.querySelector('#df-7428cd97-914a-4148-8a08-5d16f89abd24');\n",
              "        const dataTable =\n",
              "          await google.colab.kernel.invokeFunction('convertToInteractive',\n",
              "                                                    [key], {});\n",
              "        if (!dataTable) return;\n",
              "\n",
              "        const docLinkHtml = 'Like what you see? Visit the ' +\n",
              "          '<a target=\"_blank\" href=https://colab.research.google.com/notebooks/data_table.ipynb>data table notebook</a>'\n",
              "          + ' to learn more about interactive tables.';\n",
              "        element.innerHTML = '';\n",
              "        dataTable['output_type'] = 'display_data';\n",
              "        await google.colab.output.renderOutput(dataTable, element);\n",
              "        const docLink = document.createElement('div');\n",
              "        docLink.innerHTML = docLinkHtml;\n",
              "        element.appendChild(docLink);\n",
              "      }\n",
              "    </script>\n",
              "  </div>\n",
              "\n",
              "\n",
              "    </div>\n",
              "  </div>\n"
            ],
            "application/vnd.google.colaboratory.intrinsic+json": {
              "type": "dataframe",
              "summary": "{\n  \"name\": \"print(f\\\"\\\\nSaved full summary Excel file: {excel_path}\\\")\",\n  \"rows\": 1,\n  \"fields\": [\n    {\n      \"column\": \"class\",\n      \"properties\": {\n        \"dtype\": \"string\",\n        \"num_unique_values\": 1,\n        \"samples\": [\n          \"Vehicles\"\n        ],\n        \"semantic_type\": \"\",\n        \"description\": \"\"\n      }\n    },\n    {\n      \"column\": \"count\",\n      \"properties\": {\n        \"dtype\": \"number\",\n        \"std\": null,\n        \"min\": 1602,\n        \"max\": 1602,\n        \"num_unique_values\": 1,\n        \"samples\": [\n          1602\n        ],\n        \"semantic_type\": \"\",\n        \"description\": \"\"\n      }\n    },\n    {\n      \"column\": \"percent\",\n      \"properties\": {\n        \"dtype\": \"number\",\n        \"std\": null,\n        \"min\": 100.0,\n        \"max\": 100.0,\n        \"num_unique_values\": 1,\n        \"samples\": [\n          100.0\n        ],\n        \"semantic_type\": \"\",\n        \"description\": \"\"\n      }\n    },\n    {\n      \"column\": \"cumulative_%\",\n      \"properties\": {\n        \"dtype\": \"number\",\n        \"std\": null,\n        \"min\": 100.0,\n        \"max\": 100.0,\n        \"num_unique_values\": 1,\n        \"samples\": [\n          100.0\n        ],\n        \"semantic_type\": \"\",\n        \"description\": \"\"\n      }\n    }\n  ]\n}"
            }
          },
          "metadata": {}
        },
        {
          "output_type": "stream",
          "name": "stdout",
          "text": [
            "\n",
            "Saved full summary Excel file: /content/overall_class_distribution.xlsx\n"
          ]
        }
      ]
    },
    {
      "cell_type": "code",
      "source": [
        "from google.colab import files\n",
        "files.download(\"/content/class_distribution_summary.xlsx\")\n"
      ],
      "metadata": {
        "colab": {
          "base_uri": "https://localhost:8080/",
          "height": 17
        },
        "id": "JLZkwKRnjulW",
        "outputId": "cbfd8252-b3ce-48ae-adc2-a8cd21f157da"
      },
      "execution_count": 24,
      "outputs": [
        {
          "output_type": "display_data",
          "data": {
            "text/plain": [
              "<IPython.core.display.Javascript object>"
            ],
            "application/javascript": [
              "\n",
              "    async function download(id, filename, size) {\n",
              "      if (!google.colab.kernel.accessAllowed) {\n",
              "        return;\n",
              "      }\n",
              "      const div = document.createElement('div');\n",
              "      const label = document.createElement('label');\n",
              "      label.textContent = `Downloading \"${filename}\": `;\n",
              "      div.appendChild(label);\n",
              "      const progress = document.createElement('progress');\n",
              "      progress.max = size;\n",
              "      div.appendChild(progress);\n",
              "      document.body.appendChild(div);\n",
              "\n",
              "      const buffers = [];\n",
              "      let downloaded = 0;\n",
              "\n",
              "      const channel = await google.colab.kernel.comms.open(id);\n",
              "      // Send a message to notify the kernel that we're ready.\n",
              "      channel.send({})\n",
              "\n",
              "      for await (const message of channel.messages) {\n",
              "        // Send a message to notify the kernel that we're ready.\n",
              "        channel.send({})\n",
              "        if (message.buffers) {\n",
              "          for (const buffer of message.buffers) {\n",
              "            buffers.push(buffer);\n",
              "            downloaded += buffer.byteLength;\n",
              "            progress.value = downloaded;\n",
              "          }\n",
              "        }\n",
              "      }\n",
              "      const blob = new Blob(buffers, {type: 'application/binary'});\n",
              "      const a = document.createElement('a');\n",
              "      a.href = window.URL.createObjectURL(blob);\n",
              "      a.download = filename;\n",
              "      div.appendChild(a);\n",
              "      a.click();\n",
              "      div.remove();\n",
              "    }\n",
              "  "
            ]
          },
          "metadata": {}
        },
        {
          "output_type": "display_data",
          "data": {
            "text/plain": [
              "<IPython.core.display.Javascript object>"
            ],
            "application/javascript": [
              "download(\"download_42a9b148-d236-4521-8c52-b1debbe15de5\", \"class_distribution_summary.xlsx\", 4996)"
            ]
          },
          "metadata": {}
        }
      ]
    }
  ]
}